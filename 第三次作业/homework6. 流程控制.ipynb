{
 "cells": [
  {
   "cell_type": "code",
   "execution_count": null,
   "metadata": {},
   "outputs": [],
   "source": [
    "#刘西寅\n",
    "#2016级5班\n",
    "#2016011547"
   ]
  },
  {
   "cell_type": "code",
   "execution_count": 5,
   "metadata": {},
   "outputs": [],
   "source": [
    "import tensorflow as tf\n",
    "def my_maximum(x,y):\n",
    "            case_greater = (x>y,lambda:x)\n",
    "            case_less = (x<y,lambda:y)\n",
    "            case_equal = (tf.equal(x,y),lambda:x)\n",
    "            return tf.case([case_greater,case_less,case_equal])"
   ]
  },
  {
   "cell_type": "code",
   "execution_count": 8,
   "metadata": {},
   "outputs": [
    {
     "name": "stdout",
     "output_type": "stream",
     "text": [
      "3\n",
      "1\n"
     ]
    }
   ],
   "source": [
    "a=tf.maximum(3,2)\n",
    "s=tf.minimum(1,2)\n",
    "with tf.Session() as sess:\n",
    "    print(sess.run(a))\n",
    "    print(sess.run(s))"
   ]
  },
  {
   "cell_type": "code",
   "execution_count": 13,
   "metadata": {},
   "outputs": [
    {
     "name": "stdout",
     "output_type": "stream",
     "text": [
      "[[3.5 7.9]\n",
      " [3.5 7.9]\n",
      " [3.5 7.9]\n",
      " [3.5 7.9]\n",
      " [3.5 7.9]]\n"
     ]
    }
   ],
   "source": [
    "def cond(idx,op):\n",
    "    return tf.less(idx,5)\n",
    "def body(idx,op):\n",
    "    op=op.write(idx,[3.5,7.9])\n",
    "    idx+=1\n",
    "    return idx,op\n",
    "idx=tf.constant(0)\n",
    "op=tf.TensorArray(dtype=tf.float32,size=1,dynamic_size=True)\n",
    "t,res=tf.while_loop(cond,body,[idx,op])\n",
    "with tf.Session() as sess:\n",
    "    print(sess.run(res.stack()))"
   ]
  },
  {
   "cell_type": "code",
   "execution_count": null,
   "metadata": {},
   "outputs": [],
   "source": []
  }
 ],
 "metadata": {
  "kernelspec": {
   "display_name": "Python 3",
   "language": "python",
   "name": "python3"
  },
  "language_info": {
   "codemirror_mode": {
    "name": "ipython",
    "version": 3
   },
   "file_extension": ".py",
   "mimetype": "text/x-python",
   "name": "python",
   "nbconvert_exporter": "python",
   "pygments_lexer": "ipython3",
   "version": "3.6.2"
  }
 },
 "nbformat": 4,
 "nbformat_minor": 2
}
