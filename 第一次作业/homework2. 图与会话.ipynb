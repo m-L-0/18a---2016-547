{
 "cells": [
  {
   "cell_type": "code",
   "execution_count": 1,
   "metadata": {},
   "outputs": [],
   "source": [
    "#刘西寅\n",
    "#2016级5班\n",
    "#2016011547"
   ]
  },
  {
   "cell_type": "code",
   "execution_count": 7,
   "metadata": {},
   "outputs": [
    {
     "name": "stdout",
     "output_type": "stream",
     "text": [
      "2\n",
      "2\n"
     ]
    }
   ],
   "source": [
    "import tensorflow as tf\n",
    "\n",
    "a = tf.add(1,1)\n",
    "\n",
    "with tf.Session() as sess:\n",
    "    g1 = sess.run(a)\n",
    "    print(g1)\n",
    "with tf.Session() as sess:\n",
    "    g2 = sess.run(a)\n",
    "    print(g2)"
   ]
  },
  {
   "cell_type": "code",
   "execution_count": 8,
   "metadata": {},
   "outputs": [
    {
     "name": "stdout",
     "output_type": "stream",
     "text": [
      "2\n",
      "2\n",
      "6\n",
      "2.0\n",
      "4\n",
      "8\n",
      "16\n",
      "2.0\n"
     ]
    }
   ],
   "source": [
    "#加法\n",
    "a = tf.add(1,1)\n",
    "#减法\n",
    "b = tf.subtract(5,3)\n",
    "#乘法\n",
    "c = tf.multiply(2,3)\n",
    "#除法 这里的两个参数都是tf.int32 而结果是tf.float64\n",
    "d = tf.divide(tf.constant(8),tf.constant(4))\n",
    "#取余\n",
    "e = tf.mod(9,5)\n",
    "#次方\n",
    "f = tf.pow(2,3)\n",
    "#平方\n",
    "g = tf.square(4)\n",
    "#开方 这里的参数不能为int32，必须为float类型\n",
    "h = tf.sqrt(4.)\n",
    "with tf.Session() as sess:\n",
    "    res_1=sess.run(a)\n",
    "    res_2=sess.run(b)\n",
    "    res_3=sess.run(c)\n",
    "    res_4=sess.run(d)\n",
    "    res_5=sess.run(e)\n",
    "    res_6=sess.run(f)\n",
    "    res_7=sess.run(g)\n",
    "    res_8=sess.run(h)\n",
    "    print(res_1)\n",
    "    print(res_2)\n",
    "    print(res_3)\n",
    "    print(res_4)\n",
    "    print(res_5)\n",
    "    print(res_6)\n",
    "    print(res_7)\n",
    "    print(res_8)"
   ]
  },
  {
   "cell_type": "code",
   "execution_count": null,
   "metadata": {},
   "outputs": [],
   "source": []
  }
 ],
 "metadata": {
  "kernelspec": {
   "display_name": "Python 3",
   "language": "python",
   "name": "python3"
  },
  "language_info": {
   "codemirror_mode": {
    "name": "ipython",
    "version": 3
   },
   "file_extension": ".py",
   "mimetype": "text/x-python",
   "name": "python",
   "nbconvert_exporter": "python",
   "pygments_lexer": "ipython3",
   "version": "3.6.2"
  }
 },
 "nbformat": 4,
 "nbformat_minor": 2
}
