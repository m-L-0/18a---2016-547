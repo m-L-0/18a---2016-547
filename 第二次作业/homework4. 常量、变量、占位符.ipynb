{
 "cells": [
  {
   "cell_type": "code",
   "execution_count": null,
   "metadata": {},
   "outputs": [],
   "source": [
    "# 刘西寅\n",
    "# 2016级5班\n",
    "# 2016011547"
   ]
  },
  {
   "cell_type": "code",
   "execution_count": 28,
   "metadata": {
    "scrolled": true
   },
   "outputs": [
    {
     "name": "stdout",
     "output_type": "stream",
     "text": [
      "<tf.Variable 'Variable_57:0' shape=() dtype=float32_ref> <tf.Variable 'Variable_58:0' shape=() dtype=float32_ref> <tf.Variable 'Variable_59:0' shape=() dtype=float32_ref>\n",
      "16.39\n"
     ]
    }
   ],
   "source": [
    "import tensorflow as tf\n",
    "#构建二元线性回归模型\n",
    "with tf.Session() as sess:\n",
    "    b = tf.Variable(1.1)\n",
    "    c = tf.Variable(2.2)\n",
    "    k = tf.Variable(3.3)\n",
    "    #模型的样本输入使用tf.placeholder代替\n",
    "    x = tf.placeholder(dtype=tf.float32, shape=[]) \n",
    "    y = tf.placeholder(dtype=tf.float32, shape=[])\n",
    "    #二元线性回归，z因变量，x与y自变量。b与c为参数。\n",
    "    z=tf.add(tf.add(tf.multiply(b,x),tf.multiply(c,y)),k)\n",
    "    sess.run(tf.global_variables_initializer())\n",
    "    print(sess.run(z,feed_dict={x:3.5,y:4.2}))\n",
    "#使用tf.placeholder代替样本，会使样本的值固定为dtype所制定的类型，并且若样本为矩阵，则输入的矩阵样本受shape限制"
   ]
  },
  {
   "cell_type": "code",
   "execution_count": null,
   "metadata": {},
   "outputs": [],
   "source": [
    "\n",
    "    "
   ]
  }
 ],
 "metadata": {
  "kernelspec": {
   "display_name": "Python 3",
   "language": "python",
   "name": "python3"
  },
  "language_info": {
   "codemirror_mode": {
    "name": "ipython",
    "version": 3
   },
   "file_extension": ".py",
   "mimetype": "text/x-python",
   "name": "python",
   "nbconvert_exporter": "python",
   "pygments_lexer": "ipython3",
   "version": "3.6.2"
  }
 },
 "nbformat": 4,
 "nbformat_minor": 2
}
